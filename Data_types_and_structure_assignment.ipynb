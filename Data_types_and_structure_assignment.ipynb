{
  "nbformat": 4,
  "nbformat_minor": 0,
  "metadata": {
    "colab": {
      "provenance": []
    },
    "kernelspec": {
      "name": "python3",
      "display_name": "Python 3"
    },
    "language_info": {
      "name": "python"
    }
  },
  "cells": [
    {
      "cell_type": "markdown",
      "source": [
        "DATA TYPES AND STRUCTURES"
      ],
      "metadata": {
        "id": "TSWvUYJ0I0nQ"
      }
    },
    {
      "cell_type": "markdown",
      "source": [
        "1) What are data structures and why are they important ?\n",
        "  -  Data structure are a way of organizing and storing data in a computer so that it can  be used efficiently. They provide a framework for managing and accessing information ,enabling faster and more effective computations.\n",
        "   Importance of data structure :\n",
        " - Data structure affect the efficiency of data operations.\n",
        " - Data structure affect the scalability of data models.\n",
        " - Data structure affect the usability of data models.\n"
      ],
      "metadata": {
        "id": "qURZsrtRJoS8"
      }
    },
    {
      "cell_type": "markdown",
      "source": [
        "2) Explain the difference between mutable and immutable data types with example.\n",
        "- Mutable data types: Mutable data types those whose values can be modified or altered in- place after they have been initialized .When you modify a mutable object ,you are changing the original object itself ,not creating a new one.\n",
        "Example : Lists ,dictionaries and sets are common example of mutable data types .\n",
        "- Immutable data types : Immutable data types are those whose values cannot be changed after they are created .Any operations that appears to modify an immutable object actually results in the creation of a new object with the desired changes ,while the original object remains unchanged .\n",
        "Example : Integers ,floats ,strings ,and tuples are example of immutable data types ."
      ],
      "metadata": {
        "id": "grRMXSveo43S"
      }
    },
    {
      "cell_type": "markdown",
      "source": [
        "3) What are main differences between lists and tuples in python?\n",
        "- The main difference between lists and tuples in python are centered around their mutability ,performance characteristics ,and typical use cases .\n",
        "- Lists are mutable : Their elements can be modified (added ,removed , or changed ) after the lists has been created .\n",
        "- Tuples are immutable : Once a tuple is created ,its elements cannot be changed ,added or removed .\n",
        "- Lists are defined using square brackets [].\n",
        "- Tuples are defined using parentheses ().\n",
        "- Tuples are generally faster and more memory - efficient wheres Lists can be slower."
      ],
      "metadata": {
        "id": "y3YRRIUzsAV9"
      }
    },
    {
      "cell_type": "markdown",
      "source": [
        "4) Describe how dictionaries store data .\n",
        "- Dictionaries , also known as hash maps or associative arrays in other programming languages ,store data as a collection of unique key value pairs .Each key within a dictionaries is unique and serves as an identifiers to access its associated value ."
      ],
      "metadata": {
        "id": "ZStna8nYu94S"
      }
    },
    {
      "cell_type": "markdown",
      "source": [
        "5) Why might you use a set instead of a list in python ?\n",
        "- You might use a set instead of a list in the folowing scenarios:\n",
        "- Ensuring uniqueness: Sets inherently store only unique elements whereas lists on the other hand allow for duplicate elements .\n",
        "- When order is not important : Sets are unordered collection whereas list is use when order is crucial.\n",
        "\n"
      ],
      "metadata": {
        "id": "8gwMZKgNwcpK"
      }
    },
    {
      "cell_type": "markdown",
      "source": [
        "6) What is a string in Python, and how is it different from a list?\n",
        "- In python , a string is an immutable sequence of characters ,used to represent text . Strings are enclosed in either single quotes(') or double(\")\n",
        "- A list in contrast ,is a mutable ordered sequence of items. These items can be of any data types and are enclosed in square brackets ([]) with individual items separated by commas.\n"
      ],
      "metadata": {
        "id": "xZBlnyZk19b_"
      }
    },
    {
      "cell_type": "markdown",
      "source": [
        "7) How do tuples ensure data integrity in Python?\n",
        "- To manage secured data integrity in Python, you'd typically use libraries like `cryptography` for encryption, `hashlib` for hashing, and `sqlite3` for database operations. Combine these to encrypt sensitive information before storing it, and verify data integrity by comparing hashes.\n",
        "\n"
      ],
      "metadata": {
        "id": "hTFNDWEN4IuM"
      }
    },
    {
      "cell_type": "markdown",
      "source": [
        "8) What is a hash table, and how does it relate to dictionaries in Python?\n",
        "- A hash table is a data structure that stores key-value pairs. It uses a hash function to compute an index into an array of buckets or slots, from which the desired value can be found.\n",
        "\n",
        "In Python, dictionaries are implemented using hash tables. When you create a dictionary, Python uses a hash function to determine where to store each key-value pair in memory. This allows for very fast lookups, insertions, and deletions of elements, as the time complexity for these operations is typically O(1) on average.\n",
        "\n",
        "\n"
      ],
      "metadata": {
        "id": "r6Bw5sP_40XJ"
      }
    },
    {
      "cell_type": "markdown",
      "source": [
        "9)  Can lists contain different data types in Python?\n",
        "- Yes, lists in Python can contain different data types. Lists are designed to be flexible and can hold any type of object, including integers, floats, strings, other lists, tuples, dictionaries, and even custom objects.\n",
        "\n",
        "\n"
      ],
      "metadata": {
        "id": "0GUIQGx25aTG"
      }
    },
    {
      "cell_type": "markdown",
      "source": [
        "10)Explain why strings are immutable in Python?\n",
        "- Strings are immutable in Python for performance optimizations, thread safety, and to allow them to be used as dictionary keys. Any operation that appears to modify a string actually creates a new string.\n",
        "\n",
        "\n",
        "\n"
      ],
      "metadata": {
        "id": "VQ0H2csP5rym"
      }
    },
    {
      "cell_type": "markdown",
      "source": [
        "11) What advantages do dictionaries offer over lists for certain tasks?\n",
        "- Dictionaries are generally faster for accessing data using keys (like a lookup), which is useful when you have data associated with unique identifiers. They are also good for representing relationships between pieces of data as key-value pairs. Lists are better when the order of items matters or when you need to access items by their position.\n",
        "\n",
        "\n"
      ],
      "metadata": {
        "id": "dfStrbB6NycF"
      }
    },
    {
      "cell_type": "markdown",
      "source": [
        "12) Describe a scenario where using a tuple would be preferable over a list?\n",
        "-A common scenario where using a tuple is preferable over a list is when you need to represent a fixed collection of related items that should not be changed. For instance, representing a geographical coordinate as (latitude, longitude). Since the latitude and longitude of a specific point are fixed, using an immutable tuple ensures that these values are not accidentally altered later in your code, maintaining data integrity.\n",
        "\n",
        "\n"
      ],
      "metadata": {
        "id": "ZZOIyBFYO9KM"
      }
    },
    {
      "cell_type": "markdown",
      "source": [
        "13) How do sets handle duplicate values in Python?\n",
        "- Sets in Python are unordered collections that store only unique elements. If you try to add an element that is already present in the set, the set will simply remain unchanged. This is because sets are based on hash tables, which use the hash value of an element to determine its location. Since duplicate elements have the same hash value, they will be treated as the same element by the set.\n",
        "\n",
        "\n"
      ],
      "metadata": {
        "id": "Zr_Vq-SiPnYG"
      }
    },
    {
      "cell_type": "markdown",
      "source": [
        "14) How does the “in” keyword work differently for lists and dictionaries?\n",
        "- The in keyword in Python checks for membership. For lists, x in my_list checks if an element x exists as a value within the list. For dictionaries, x in my_dict checks if x exists as a key in the dictionary. It does not check if x exists as a value within the dictionary.\n",
        "\n",
        "\n",
        "\n"
      ],
      "metadata": {
        "id": "xfJoyTz5QSUR"
      }
    },
    {
      "cell_type": "markdown",
      "source": [
        "15) Can you modify the elements of a tuple? Explain why or why not?\n",
        "- No, you cannot modify the elements of a tuple after it has been created. Tuples are immutable data types in Python. This means that once a tuple is defined, its contents cannot be changed, added to, or removed. Any operation that seems to modify a tuple actually creates a new tuple with the desired changes. This immutability provides data integrity and allows tuples to be used as dictionary keys.\n",
        "\n",
        "\n"
      ],
      "metadata": {
        "id": "eFE4OakcSlEo"
      }
    },
    {
      "cell_type": "markdown",
      "source": [
        "16) What is a nested dictionary, and give an example of its use case?\n",
        "- A nested dictionary is a dictionary where at least one of the values is another dictionary. This allows you to represent hierarchical or more complex data structures. A common use case is representing data where each main item has several attributes, and some of those attributes themselves contain multiple pieces of information. For example, you could use a nested dictionary to store information about students, where each student's record is a dictionary containing their name, ID, and another dictionary for their grades in different subjects: {'student1': {'name': 'Alice', 'id': '101', 'grades': {'math': 'A', 'science': 'B'}}, 'student2': {'name': 'Bob', 'id': '102', 'grades': {'math': 'B', 'science': 'A'}}}.\n",
        "\n",
        "\n"
      ],
      "metadata": {
        "id": "DIQKjFwMS5YF"
      }
    },
    {
      "cell_type": "markdown",
      "source": [
        "17 Describe the time complexity of accessing elements in a dictionary?\n",
        "- Accessing elements in a dictionary in Python has an average time complexity of O(1). This means that on average, the time it takes to access an element is constant, regardless of the size of the dictionary. In the worst-case scenario (due to hash collisions), the time complexity can be O(n), where n is the number of elements in the dictionary, but this is rare in practice with good hash functions.\n",
        "\n",
        "\n"
      ],
      "metadata": {
        "id": "kHMuUb9aTOhd"
      }
    },
    {
      "cell_type": "markdown",
      "source": [
        "18) In what situations are lists preferred over dictionaries?\n",
        "- Lists are preferred over dictionaries when:\n",
        "\n",
        "Order matters: Lists maintain the order of elements, while dictionaries (in older Python versions) did not guarantee order and even in newer versions, access is not typically based on order.\n",
        "You need to access elements by position: Lists allow efficient access to elements using integer indices.\n",
        "You have a collection of items without unique keys: If you just have a sequence of items without a need to associate them with specific keys for lookup, a list is simpler and more appropriate.\n",
        "You need to allow duplicate elements: Lists can contain duplicate values, whereas dictionaries have unique keys.\n",
        "\n"
      ],
      "metadata": {
        "id": "mdF_Id3UTia5"
      }
    },
    {
      "cell_type": "markdown",
      "source": [
        "19) Why are dictionaries considered unordered, and how does that affect data retrieval?\n",
        "- In older versions of Python (before 3.7), dictionaries were inherently unordered because their implementation using hash tables did not preserve insertion order. This meant the order in which you added items didn't guarantee the order in which they were retrieved. While dictionaries in Python 3.7+ do maintain insertion order, they are still fundamentally designed for fast lookups based on keys, not for sequential access like lists. Therefore, relying on order for data retrieval in dictionaries is generally discouraged and less efficient compared to accessing elements by key.\n",
        "\n",
        "\n"
      ],
      "metadata": {
        "id": "M9dhaX-0UK1v"
      }
    },
    {
      "cell_type": "markdown",
      "source": [
        "20) Explain the difference between a list and a dictionary in terms of data retrieval.\n",
        "- The main difference in data retrieval between lists and dictionaries lies in how you access elements.\n",
        "\n",
        "Lists: You retrieve elements from a list by their index, which is their position in the ordered sequence (starting from 0). You access elements like my_list[0].\n",
        "Dictionaries: You retrieve elements from a dictionary by their unique key. You access elements like my_dict['key_name'].\n",
        "Lists are good for retrieving data when you know the position of the item, while dictionaries are efficient for retrieving data when you have a key associated with the value you want.\n",
        "\n",
        "\n"
      ],
      "metadata": {
        "id": "NaG9zQsEUixJ"
      }
    },
    {
      "cell_type": "markdown",
      "source": [
        "PRACTICAL QUESTIONS"
      ],
      "metadata": {
        "id": "vo7N4NAKU85R"
      }
    },
    {
      "cell_type": "markdown",
      "source": [
        "1) Write a code to create a string with your name and print it?\n",
        "\n"
      ],
      "metadata": {
        "id": "_6yVbWz2VMs6"
      }
    },
    {
      "cell_type": "code",
      "source": [
        "name = \"Your Name\"\n",
        "print(name)\n"
      ],
      "metadata": {
        "colab": {
          "base_uri": "https://localhost:8080/"
        },
        "id": "DqWDkw8cTOME",
        "outputId": "30dbeb33-1935-437f-9a4a-43ce4631a896"
      },
      "execution_count": null,
      "outputs": [
        {
          "output_type": "stream",
          "name": "stdout",
          "text": [
            "Your Name\n"
          ]
        }
      ]
    },
    {
      "cell_type": "markdown",
      "source": [
        "2) Write a code to find the length of the string \"Hello World\"?\n"
      ],
      "metadata": {
        "id": "-gQXd3aVVu1G"
      }
    },
    {
      "cell_type": "code",
      "metadata": {
        "colab": {
          "base_uri": "https://localhost:8080/"
        },
        "id": "81318908",
        "outputId": "9110aa86-3bfb-44e2-ee71-a1acb0276b01"
      },
      "source": [
        "my_string = \"Hello World\"\n",
        "string_length = len(my_string)\n",
        "print(string_length)"
      ],
      "execution_count": null,
      "outputs": [
        {
          "output_type": "stream",
          "name": "stdout",
          "text": [
            "11\n"
          ]
        }
      ]
    },
    {
      "cell_type": "markdown",
      "source": [
        "3) Write a code to slice the first 3 characters from the string \"Python Programming\"?\n"
      ],
      "metadata": {
        "id": "0qTyyIbpWcaE"
      }
    },
    {
      "cell_type": "code",
      "metadata": {
        "colab": {
          "base_uri": "https://localhost:8080/"
        },
        "id": "4118eadb",
        "outputId": "2ff0d9ef-30ea-4d3d-a1c3-c4f8ccfd0b79"
      },
      "source": [
        "my_string = \"Python Programming\"\n",
        "sliced_string = my_string[:3]\n",
        "print(sliced_string)"
      ],
      "execution_count": null,
      "outputs": [
        {
          "output_type": "stream",
          "name": "stdout",
          "text": [
            "Pyt\n"
          ]
        }
      ]
    },
    {
      "cell_type": "markdown",
      "source": [
        "4) Write a code to convert the string \"hello\" to uppercase?\n"
      ],
      "metadata": {
        "id": "eGAKeCM-Jhf1"
      }
    },
    {
      "cell_type": "code",
      "metadata": {
        "colab": {
          "base_uri": "https://localhost:8080/"
        },
        "id": "609c5b78",
        "outputId": "314c667b-6441-4179-e8f9-9ca7e282e8be"
      },
      "source": [
        "my_string = \"hello\"\n",
        "uppercase_string = my_string.upper()\n",
        "print(uppercase_string)"
      ],
      "execution_count": null,
      "outputs": [
        {
          "output_type": "stream",
          "name": "stdout",
          "text": [
            "HELLO\n"
          ]
        }
      ]
    },
    {
      "cell_type": "markdown",
      "source": [
        "5) Write a code to replace the word \"apple\" with \"orange\" in the string \"I like apple\"?\n"
      ],
      "metadata": {
        "id": "fd1emaYKI4IU"
      }
    },
    {
      "cell_type": "code",
      "metadata": {
        "colab": {
          "base_uri": "https://localhost:8080/"
        },
        "id": "b20b5077",
        "outputId": "57125a4f-b9a0-4aee-e734-aa05e959d47e"
      },
      "source": [
        "my_string = \"I like apple\"\n",
        "new_string = my_string.replace(\"apple\", \"orange\")\n",
        "print(new_string)"
      ],
      "execution_count": null,
      "outputs": [
        {
          "output_type": "stream",
          "name": "stdout",
          "text": [
            "I like orange\n"
          ]
        }
      ]
    },
    {
      "cell_type": "markdown",
      "source": [
        "6) Write a code to create a list with numbers 1 to 5 and print it?"
      ],
      "metadata": {
        "id": "g537psJQXRkM"
      }
    },
    {
      "cell_type": "code",
      "metadata": {
        "colab": {
          "base_uri": "https://localhost:8080/"
        },
        "id": "c0bfc41a",
        "outputId": "5d7554e7-10ec-409e-d824-9e6a00a7a95d"
      },
      "source": [
        "my_list = [1, 2, 3, 4, 5]\n",
        "print(my_list)"
      ],
      "execution_count": null,
      "outputs": [
        {
          "output_type": "stream",
          "name": "stdout",
          "text": [
            "[1, 2, 3, 4, 5]\n"
          ]
        }
      ]
    },
    {
      "cell_type": "markdown",
      "source": [
        "7) Write a code to append the number 10 to the list [1, 2, 3, 4]\n"
      ],
      "metadata": {
        "id": "Z4SVkHQOXf_o"
      }
    },
    {
      "cell_type": "code",
      "metadata": {
        "colab": {
          "base_uri": "https://localhost:8080/"
        },
        "id": "5f27ea7d",
        "outputId": "876a0851-4815-4b4e-f027-ebd45867ec1a"
      },
      "source": [
        "my_list = [1, 2, 3, 4]\n",
        "my_list.append(10)\n",
        "print(my_list)"
      ],
      "execution_count": null,
      "outputs": [
        {
          "output_type": "stream",
          "name": "stdout",
          "text": [
            "[1, 2, 3, 4, 10]\n"
          ]
        }
      ]
    },
    {
      "cell_type": "markdown",
      "source": [
        "8) Write a code to remove the number 3 from the list [1, 2, 3, 4, 5]\n"
      ],
      "metadata": {
        "id": "-3d0GBqYXvIb"
      }
    },
    {
      "cell_type": "code",
      "metadata": {
        "colab": {
          "base_uri": "https://localhost:8080/"
        },
        "id": "45c1cae1",
        "outputId": "f886689d-22ce-45ba-d96e-7a875d2865e3"
      },
      "source": [
        "my_list = [1, 2, 3, 4, 5]\n",
        "my_list.remove(3)\n",
        "print(my_list)"
      ],
      "execution_count": null,
      "outputs": [
        {
          "output_type": "stream",
          "name": "stdout",
          "text": [
            "[1, 2, 4, 5]\n"
          ]
        }
      ]
    },
    {
      "cell_type": "markdown",
      "source": [
        "9) Write a code to access the second element in the list ['a', 'b', 'c', 'd']\n"
      ],
      "metadata": {
        "id": "HccUkvNeYDZr"
      }
    },
    {
      "cell_type": "code",
      "metadata": {
        "colab": {
          "base_uri": "https://localhost:8080/"
        },
        "id": "4596692b",
        "outputId": "6420e311-4208-48be-c530-ce2886b8aafe"
      },
      "source": [
        "my_list = ['a', 'b', 'c', 'd']\n",
        "second_element = my_list[1]\n",
        "print(second_element)"
      ],
      "execution_count": null,
      "outputs": [
        {
          "output_type": "stream",
          "name": "stdout",
          "text": [
            "b\n"
          ]
        }
      ]
    },
    {
      "cell_type": "markdown",
      "source": [
        "10) Write a code to reverse the list [10, 20, 30, 40, 50]."
      ],
      "metadata": {
        "id": "s34Mur-sYURj"
      }
    },
    {
      "cell_type": "code",
      "metadata": {
        "colab": {
          "base_uri": "https://localhost:8080/"
        },
        "id": "0624de19",
        "outputId": "d59d0e05-ffed-4439-dd70-990a44739635"
      },
      "source": [
        "my_list = [10, 20, 30, 40, 50]\n",
        "my_list.reverse()\n",
        "print(my_list)"
      ],
      "execution_count": null,
      "outputs": [
        {
          "output_type": "stream",
          "name": "stdout",
          "text": [
            "[50, 40, 30, 20, 10]\n"
          ]
        }
      ]
    },
    {
      "cell_type": "markdown",
      "source": [
        "11) Write a code to create a tuple with the elements 100, 200, 300 and print it."
      ],
      "metadata": {
        "id": "AUlai1MpYl_C"
      }
    },
    {
      "cell_type": "code",
      "metadata": {
        "colab": {
          "base_uri": "https://localhost:8080/"
        },
        "id": "ebacef0a",
        "outputId": "973aa595-1e32-4b3e-e889-0c2def144f19"
      },
      "source": [
        "my_tuple = (100, 200, 300)\n",
        "print(my_tuple)"
      ],
      "execution_count": null,
      "outputs": [
        {
          "output_type": "stream",
          "name": "stdout",
          "text": [
            "(100, 200, 300)\n"
          ]
        }
      ]
    },
    {
      "cell_type": "markdown",
      "source": [
        "12) Write a code to access the second-to-last element of the tuple ('red', 'green', 'blue', 'yellow')."
      ],
      "metadata": {
        "id": "9rnEUui9ZHJN"
      }
    },
    {
      "cell_type": "code",
      "metadata": {
        "colab": {
          "base_uri": "https://localhost:8080/"
        },
        "id": "5ecd77e6",
        "outputId": "bdc45510-ede3-4ac4-c8b6-7ee168661394"
      },
      "source": [
        "my_tuple = ('red', 'green', 'blue', 'yellow')\n",
        "second_to_last_element = my_tuple[-2]\n",
        "print(second_to_last_element)"
      ],
      "execution_count": null,
      "outputs": [
        {
          "output_type": "stream",
          "name": "stdout",
          "text": [
            "blue\n"
          ]
        }
      ]
    },
    {
      "cell_type": "markdown",
      "source": [
        "13) Write a code to find the minimum number in the tuple (10, 20, 5, 15)."
      ],
      "metadata": {
        "id": "Wu1aKRwcZVNy"
      }
    },
    {
      "cell_type": "code",
      "metadata": {
        "colab": {
          "base_uri": "https://localhost:8080/"
        },
        "id": "7f5dc639",
        "outputId": "a5a53cfc-4d68-45fc-b7ab-d8c4353a8777"
      },
      "source": [
        "my_tuple = (10, 20, 5, 15)\n",
        "min_number = min(my_tuple)\n",
        "print(min_number)"
      ],
      "execution_count": null,
      "outputs": [
        {
          "output_type": "stream",
          "name": "stdout",
          "text": [
            "5\n"
          ]
        }
      ]
    },
    {
      "cell_type": "markdown",
      "source": [
        "14) Write a code to find the index of the element \"cat\" in the tuple ('dog', 'cat', 'rabbit')."
      ],
      "metadata": {
        "id": "AbgBUuwmZk8e"
      }
    },
    {
      "cell_type": "code",
      "metadata": {
        "colab": {
          "base_uri": "https://localhost:8080/"
        },
        "id": "c234b1c4",
        "outputId": "d9fbe97a-718f-4f18-b2c3-3989d4feccdf"
      },
      "source": [
        "my_tuple = ('dog', 'cat', 'rabbit')\n",
        "index_of_cat = my_tuple.index('cat')\n",
        "print(index_of_cat)"
      ],
      "execution_count": null,
      "outputs": [
        {
          "output_type": "stream",
          "name": "stdout",
          "text": [
            "1\n"
          ]
        }
      ]
    },
    {
      "cell_type": "markdown",
      "source": [
        "15) Write a code to create a tuple containing three different fruits and check if \"kiwi\" is in it."
      ],
      "metadata": {
        "id": "xWIoz7UjZxnu"
      }
    },
    {
      "cell_type": "code",
      "metadata": {
        "colab": {
          "base_uri": "https://localhost:8080/"
        },
        "id": "3e3b4a2c",
        "outputId": "72f1219a-3254-4c08-d2c9-5613e73fad6d"
      },
      "source": [
        "fruits_tuple = ('apple', 'banana', 'orange')\n",
        "if \"kiwi\" in fruits_tuple:\n",
        "  print(\"Kiwi is in the tuple.\")\n",
        "else:\n",
        "  print(\"Kiwi is not in the tuple.\")"
      ],
      "execution_count": null,
      "outputs": [
        {
          "output_type": "stream",
          "name": "stdout",
          "text": [
            "Kiwi is not in the tuple.\n"
          ]
        }
      ]
    },
    {
      "cell_type": "markdown",
      "source": [
        "16) Write a code to create a set with the elements 'a', 'b', 'c' and print it."
      ],
      "metadata": {
        "id": "mMgTdYpsZ98E"
      }
    },
    {
      "cell_type": "code",
      "metadata": {
        "colab": {
          "base_uri": "https://localhost:8080/"
        },
        "id": "0be7c8d6",
        "outputId": "77d703fa-5adc-4c4f-cbbd-8524514dc48c"
      },
      "source": [
        "my_set = {'a', 'b', 'c'}\n",
        "print(my_set)"
      ],
      "execution_count": null,
      "outputs": [
        {
          "output_type": "stream",
          "name": "stdout",
          "text": [
            "{'a', 'b', 'c'}\n"
          ]
        }
      ]
    },
    {
      "cell_type": "markdown",
      "source": [
        "17) Write a code to clear all elements from the set {1, 2, 3, 4, 5}."
      ],
      "metadata": {
        "id": "YELgmXi0aLwn"
      }
    },
    {
      "cell_type": "code",
      "metadata": {
        "colab": {
          "base_uri": "https://localhost:8080/"
        },
        "id": "d4233cec",
        "outputId": "60bc7e32-dff8-4820-a84f-765f8c4b4588"
      },
      "source": [
        "my_set = {1, 2, 3, 4, 5}\n",
        "my_set.clear()\n",
        "print(my_set)"
      ],
      "execution_count": null,
      "outputs": [
        {
          "output_type": "stream",
          "name": "stdout",
          "text": [
            "set()\n"
          ]
        }
      ]
    },
    {
      "cell_type": "markdown",
      "source": [
        "18) Write a code to remove the element 4 from the set {1, 2, 3, 4}."
      ],
      "metadata": {
        "id": "NFEEVrqfaZgp"
      }
    },
    {
      "cell_type": "code",
      "metadata": {
        "colab": {
          "base_uri": "https://localhost:8080/"
        },
        "id": "6fa948b1",
        "outputId": "b75d8e9c-5908-41d4-cf0e-b9dcd1f4686a"
      },
      "source": [
        "my_set = {1, 2, 3, 4}\n",
        "my_set.remove(4)\n",
        "print(my_set)"
      ],
      "execution_count": null,
      "outputs": [
        {
          "output_type": "stream",
          "name": "stdout",
          "text": [
            "{1, 2, 3}\n"
          ]
        }
      ]
    },
    {
      "cell_type": "markdown",
      "source": [
        "19) Write a code to find the union of two sets {1, 2, 3} and {3, 4, 5}."
      ],
      "metadata": {
        "id": "PySMLmzdal37"
      }
    },
    {
      "cell_type": "code",
      "metadata": {
        "colab": {
          "base_uri": "https://localhost:8080/"
        },
        "id": "68259816",
        "outputId": "6c32ebdf-8083-44f0-ba6d-31aaaa372611"
      },
      "source": [
        "set1 = {1, 2, 3}\n",
        "set2 = {3, 4, 5}\n",
        "union_set = set1.union(set2)\n",
        "print(union_set)"
      ],
      "execution_count": null,
      "outputs": [
        {
          "output_type": "stream",
          "name": "stdout",
          "text": [
            "{1, 2, 3, 4, 5}\n"
          ]
        }
      ]
    },
    {
      "cell_type": "markdown",
      "source": [
        "20) Write a code to find the intersection of two sets {1, 2, 3} and {2, 3, 4}."
      ],
      "metadata": {
        "id": "9CE1_KA1azWt"
      }
    },
    {
      "cell_type": "code",
      "metadata": {
        "colab": {
          "base_uri": "https://localhost:8080/"
        },
        "id": "0509ea2e",
        "outputId": "f3c42773-8151-445c-bf0f-0ad24cb3717f"
      },
      "source": [
        "set1 = {1, 2, 3}\n",
        "set2 = {2, 3, 4}\n",
        "intersection_set = set1.intersection(set2)\n",
        "print(intersection_set)"
      ],
      "execution_count": null,
      "outputs": [
        {
          "output_type": "stream",
          "name": "stdout",
          "text": [
            "{2, 3}\n"
          ]
        }
      ]
    },
    {
      "cell_type": "markdown",
      "source": [
        "21) Write a code to create a dictionary with the keys \"name\", \"age\", and \"city\", and print it."
      ],
      "metadata": {
        "id": "FUhNOXkla_KX"
      }
    },
    {
      "cell_type": "code",
      "metadata": {
        "colab": {
          "base_uri": "https://localhost:8080/"
        },
        "id": "c3b129df",
        "outputId": "cf1eec7f-2e41-417b-d2a9-138b793195eb"
      },
      "source": [
        "my_dict = {\n",
        "    \"name\": \"Your Name\",  # You can replace \"Your Name\" with a name\n",
        "    \"age\": 30,          # You can replace 30 with an age\n",
        "    \"city\": \"Your City\"   # You can replace \"Your City\" with a city\n",
        "}\n",
        "print(my_dict)"
      ],
      "execution_count": null,
      "outputs": [
        {
          "output_type": "stream",
          "name": "stdout",
          "text": [
            "{'name': 'Your Name', 'age': 30, 'city': 'Your City'}\n"
          ]
        }
      ]
    },
    {
      "cell_type": "markdown",
      "source": [
        "22) Write a code to add a new key-value pair \"country\": \"USA\" to the dictionary {'name': 'John', 'age': 25}."
      ],
      "metadata": {
        "id": "cUaoOgLRbNA9"
      }
    },
    {
      "cell_type": "code",
      "metadata": {
        "colab": {
          "base_uri": "https://localhost:8080/"
        },
        "id": "c1e2e36a",
        "outputId": "dfa12935-9012-43f4-e73f-37bf234c4923"
      },
      "source": [
        "my_dict = {'name': 'John', 'age': 25}\n",
        "my_dict[\"country\"] = \"USA\"\n",
        "print(my_dict)"
      ],
      "execution_count": null,
      "outputs": [
        {
          "output_type": "stream",
          "name": "stdout",
          "text": [
            "{'name': 'John', 'age': 25, 'country': 'USA'}\n"
          ]
        }
      ]
    },
    {
      "cell_type": "markdown",
      "source": [
        "23) Write a code to access the value associated with the key \"name\" in the dictionary {'name': 'Alice', 'age': 30}."
      ],
      "metadata": {
        "id": "yq267z6Rbfx9"
      }
    },
    {
      "cell_type": "code",
      "metadata": {
        "colab": {
          "base_uri": "https://localhost:8080/"
        },
        "id": "145926bb",
        "outputId": "a49c3c76-e1d8-4eb9-da48-e2b4b9753814"
      },
      "source": [
        "my_dict = {'name': 'Alice', 'age': 30}\n",
        "name_value = my_dict[\"name\"]\n",
        "print(name_value)"
      ],
      "execution_count": null,
      "outputs": [
        {
          "output_type": "stream",
          "name": "stdout",
          "text": [
            "Alice\n"
          ]
        }
      ]
    },
    {
      "cell_type": "markdown",
      "source": [
        "24)Write a code to remove the key \"age\" from the dictionary {'name': 'Bob', 'age': 22, 'city': 'New York'}."
      ],
      "metadata": {
        "id": "EhMpEhuSbqCl"
      }
    },
    {
      "cell_type": "code",
      "metadata": {
        "colab": {
          "base_uri": "https://localhost:8080/"
        },
        "id": "6f5eb8b5",
        "outputId": "fb3b54ae-d5c8-4bf6-d0f8-0b0985c32628"
      },
      "source": [
        "my_dict = {'name': 'Bob', 'age': 22, 'city': 'New York'}\n",
        "del my_dict[\"age\"]\n",
        "print(my_dict)"
      ],
      "execution_count": null,
      "outputs": [
        {
          "output_type": "stream",
          "name": "stdout",
          "text": [
            "{'name': 'Bob', 'city': 'New York'}\n"
          ]
        }
      ]
    },
    {
      "cell_type": "markdown",
      "source": [
        "25) Write a code to check if the key \"city\" exists in the dictionary {'name': 'Alice', 'city': 'Paris'}."
      ],
      "metadata": {
        "id": "KSawzq36b87h"
      }
    },
    {
      "cell_type": "code",
      "metadata": {
        "colab": {
          "base_uri": "https://localhost:8080/"
        },
        "id": "17ba002c",
        "outputId": "8e781640-c4cd-480c-d428-11a73047c3cf"
      },
      "source": [
        "my_dict = {'name': 'Alice', 'city': 'Paris'}\n",
        "if \"city\" in my_dict:\n",
        "  print(\"The key 'city' exists in the dictionary.\")\n",
        "else:\n",
        "  print(\"The key 'city' does not exist in the dictionary.\")"
      ],
      "execution_count": null,
      "outputs": [
        {
          "output_type": "stream",
          "name": "stdout",
          "text": [
            "The key 'city' exists in the dictionary.\n"
          ]
        }
      ]
    },
    {
      "cell_type": "markdown",
      "source": [
        "26) Write a code to create a list, a tuple, and a dictionary, and print them all.\n",
        "\n"
      ],
      "metadata": {
        "id": "AyqiU-eacWSq"
      }
    },
    {
      "cell_type": "code",
      "metadata": {
        "colab": {
          "base_uri": "https://localhost:8080/"
        },
        "id": "940dff2c",
        "outputId": "e2da475c-783a-4802-c1e4-a52b28303a9f"
      },
      "source": [
        "my_list = [1, 2, 3]\n",
        "my_tuple = (4, 5, 6)\n",
        "my_dict = {\"a\": 7, \"b\": 8}\n",
        "\n",
        "print(\"List:\", my_list)\n",
        "print(\"Tuple:\", my_tuple)\n",
        "print(\"Dictionary:\", my_dict)"
      ],
      "execution_count": null,
      "outputs": [
        {
          "output_type": "stream",
          "name": "stdout",
          "text": [
            "List: [1, 2, 3]\n",
            "Tuple: (4, 5, 6)\n",
            "Dictionary: {'a': 7, 'b': 8}\n"
          ]
        }
      ]
    },
    {
      "cell_type": "markdown",
      "source": [
        "27) Write a code to create a list of 5 random numbers between 1 and 100, sort it in ascending order, and print the result.\n"
      ],
      "metadata": {
        "id": "JEVMGMgxdjtC"
      }
    },
    {
      "cell_type": "code",
      "metadata": {
        "colab": {
          "base_uri": "https://localhost:8080/"
        },
        "id": "075a953a",
        "outputId": "e71a918e-3530-42a7-ed03-849ac79c3f7a"
      },
      "source": [
        "import random\n",
        "\n",
        "# Create a list of 5 random numbers between 1 and 100\n",
        "random_numbers = [random.randint(1, 100) for _ in range(5)]\n",
        "\n",
        "# Sort the list in ascending order\n",
        "random_numbers.sort()\n",
        "\n",
        "# Print the sorted list\n",
        "print(random_numbers)"
      ],
      "execution_count": null,
      "outputs": [
        {
          "output_type": "stream",
          "name": "stdout",
          "text": [
            "[1, 32, 63, 87, 87]\n"
          ]
        }
      ]
    },
    {
      "cell_type": "markdown",
      "source": [
        "28) Write a code to create a list with strings and print the element at the third index."
      ],
      "metadata": {
        "id": "rv2j2qu-eHo_"
      }
    },
    {
      "cell_type": "code",
      "metadata": {
        "colab": {
          "base_uri": "https://localhost:8080/"
        },
        "id": "d789bc1f",
        "outputId": "c40b0665-0e8d-4e9d-ee35-3b8a4b303d80"
      },
      "source": [
        "my_list = [\"apple\", \"banana\", \"cherry\", \"date\", \"elderberry\"]\n",
        "print(my_list[2]) # Lists are 0-indexed, so the third element is at index 2"
      ],
      "execution_count": null,
      "outputs": [
        {
          "output_type": "stream",
          "name": "stdout",
          "text": [
            "cherry\n"
          ]
        }
      ]
    },
    {
      "cell_type": "markdown",
      "source": [
        "29) Write a code to combine two dictionaries into one and print the result."
      ],
      "metadata": {
        "id": "de8TyeQ6ecve"
      }
    },
    {
      "cell_type": "code",
      "metadata": {
        "colab": {
          "base_uri": "https://localhost:8080/"
        },
        "id": "40678a5c",
        "outputId": "16ba6fb9-04c4-4d7b-a7ec-5c82d18bf026"
      },
      "source": [
        "dict1 = {\"a\": 1, \"b\": 2}\n",
        "dict2 = {\"c\": 3, \"d\": 4}\n",
        "combined_dict_update = dict1.copy()\n",
        "combined_dict_update.update(dict2)\n",
        "print(\"Combined using update():\", combined_dict_update)\n",
        "\n",
        "combined_dict_unpack = {**dict1, **dict2}\n",
        "print(\"Combined using unpacking:\", combined_dict_unpack)\n"
      ],
      "execution_count": null,
      "outputs": [
        {
          "output_type": "stream",
          "name": "stdout",
          "text": [
            "Combined using update(): {'a': 1, 'b': 2, 'c': 3, 'd': 4}\n",
            "Combined using unpacking: {'a': 1, 'b': 2, 'c': 3, 'd': 4}\n"
          ]
        }
      ]
    },
    {
      "cell_type": "markdown",
      "source": [
        "30)Write a code to convert a list of strings into a set."
      ],
      "metadata": {
        "id": "sOQn_BNwe_64"
      }
    },
    {
      "cell_type": "code",
      "metadata": {
        "colab": {
          "base_uri": "https://localhost:8080/"
        },
        "id": "4f5add8b",
        "outputId": "323e3969-f4e8-4d3a-84d1-7b6b7cde3344"
      },
      "source": [
        "my_list = [\"apple\", \"banana\", \"cherry\", \"apple\"]\n",
        "my_set = set(my_list)\n",
        "print(my_set)"
      ],
      "execution_count": null,
      "outputs": [
        {
          "output_type": "stream",
          "name": "stdout",
          "text": [
            "{'banana', 'apple', 'cherry'}\n"
          ]
        }
      ]
    }
  ]
}